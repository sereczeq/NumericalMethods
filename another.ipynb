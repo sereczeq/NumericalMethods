{
 "cells": [
  {
   "cell_type": "markdown",
   "source": [
    "$$\n",
    "\n",
    "\\sum_{i} x_i\n",
    "\\sum_{i} x_i^2\n",
    "\\sum_{i} y_i\n",
    "\\sum_{i} x_i y_i\n",
    "\n",
    "p_0\n",
    "p_1\n",
    "\n",
    "$$\n",
    "$$\n",
    "\n",
    "\\begin{cases}\n",
    "p_0 * n + p_1 * \\sum_{i} x_i = \\sum_{i} y_i \\\\\n",
    "p_0 \\sum_{i} x_i + p_1 \\sum_{i} x_i^2 = \\sum_{i} x_i y_i\n",
    "\\end{cases}\n",
    "\n",
    "$$\n",
    "$$\n",
    "p_0 = \\dfrac{\\sum_{i} y_i - p_1 \\sum_{i} x_i } {n}\n",
    "\n",
    " $$\n",
    "\n",
    "$$\n",
    "\n",
    "\\dfrac{\\sum_{i} y_i - p_1 \\sum_{i} x_i } {n} \\sum_{i} x_i + p_1 \\sum_{i} x_i^2 = \\sum_{i} x_i y_i\n",
    "\n",
    "$$\n",
    "\n",
    "$$\n",
    "(\\sum_{i} y_i - p_1 \\sum_{i} x_i) \\sum_{i} x_i + p_1 n \\sum_{i} x_i^2 = n \\sum_{i} x_i y_i\n",
    "$$\n",
    "\n",
    "\n",
    "$$\n",
    "\\sum_{i} y_i \\sum_{i} x_i - p_1 \\sum_{i} x_i \\sum_{i} x_i + p_1 n \\sum_{i} x_i^2 = n \\sum_{i} x_i y_i\n",
    "\n",
    "$$\n",
    "\n",
    "$$\n",
    "-p_1 \\sum_{i} x_i \\sum_{i} x_i + p_1 n \\sum_{i} x_i^2 = n \\sum_{i} x_i y_i - \\sum_{i} y_i \\sum_{i} x_i\n",
    "$$\n",
    "\n",
    "$$\n",
    "p_1 (-\\sum_{i} x_i \\sum_{i} x_i + n \\sum_{i} x_i^2) = n \\sum_{i} x_i y_i - \\sum_{i} y_i \\sum_{i} x_i\n",
    "$$\n",
    "\n",
    "$$\n",
    "p_1 = \\dfrac{n \\sum_{i} x_i y_i - \\sum_{i} y_i \\sum_{i} x_i} {-\\sum_{i} x_i \\sum_{i} x_i + n \\sum_{i} x_i^2}\n",
    "$$"
   ],
   "metadata": {
    "collapsed": false
   }
  },
  {
   "cell_type": "code",
   "execution_count": null,
   "metadata": {
    "collapsed": true,
    "ExecuteTime": {
     "start_time": "2023-04-22T13:36:09.088198Z",
     "end_time": "2023-04-22T13:36:09.105083Z"
    }
   },
   "outputs": [],
   "source": []
  }
 ],
 "metadata": {
  "kernelspec": {
   "display_name": "Python 3",
   "language": "python",
   "name": "python3"
  },
  "language_info": {
   "codemirror_mode": {
    "name": "ipython",
    "version": 2
   },
   "file_extension": ".py",
   "mimetype": "text/x-python",
   "name": "python",
   "nbconvert_exporter": "python",
   "pygments_lexer": "ipython2",
   "version": "2.7.6"
  }
 },
 "nbformat": 4,
 "nbformat_minor": 0
}
