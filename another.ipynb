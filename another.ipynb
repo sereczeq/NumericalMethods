{
 "cells": [
  {
   "cell_type": "markdown",
   "source": [
    "# Approximation\n",
    "Jakub Seredyński 54589\n",
    "\n",
    "## Implement the equation\n",
    "$$\n",
    "\\begin{cases}\n",
    "p_0 * n + p_1 * \\sum_{i} x_i = \\sum_{i} y_i \\\\\n",
    "p_0 \\sum_{i} x_i + p_1 \\sum_{i} x_i^2 = \\sum_{i} x_i y_i\n",
    "\\end{cases}\n",
    "$$\n",
    "\n",
    "Extracting p0 to inject into second equation\n",
    "\n",
    "$$\n",
    "p_0 = \\dfrac{\\sum_{i} y_i - p_1 \\sum_{i} x_i } {n}\n",
    "$$\n",
    "\n",
    "Solving for p1\n",
    "\n",
    "$$\n",
    "\n",
    "\\dfrac{\\sum_{i} y_i - p_1 \\sum_{i} x_i } {n} \\sum_{i} x_i + p_1 \\sum_{i} x_i^2 = \\sum_{i} x_i y_i\n",
    "\n",
    "$$\n",
    "\n",
    "$$\n",
    "(\\sum_{i} y_i - p_1 \\sum_{i} x_i) \\sum_{i} x_i + p_1 n \\sum_{i} x_i^2 = n \\sum_{i} x_i y_i\n",
    "$$\n",
    "\n",
    "\n",
    "$$\n",
    "\\sum_{i} y_i \\sum_{i} x_i - p_1 \\sum_{i} x_i \\sum_{i} x_i + p_1 n \\sum_{i} x_i^2 = n \\sum_{i} x_i y_i\n",
    "\n",
    "$$\n",
    "\n",
    "$$\n",
    "-p_1 \\sum_{i} x_i \\sum_{i} x_i + p_1 n \\sum_{i} x_i^2 = n \\sum_{i} x_i y_i - \\sum_{i} y_i \\sum_{i} x_i\n",
    "$$\n",
    "\n",
    "$$\n",
    "p_1 (-\\sum_{i} x_i \\sum_{i} x_i + n \\sum_{i} x_i^2) = n \\sum_{i} x_i y_i - \\sum_{i} y_i \\sum_{i} x_i\n",
    "$$\n",
    "\n",
    "$$\n",
    "p_1 = \\dfrac{n \\sum_{i} x_i y_i - \\sum_{i} y_i \\sum_{i} x_i} {-\\sum_{i} x_i \\sum_{i} x_i + n \\sum_{i} x_i^2}\n",
    "$$\n",
    "\n",
    "Solving for p0 using solved p1\n",
    "\n",
    "$$\n",
    "p_0 = \\dfrac{\\sum_{i} y_i - \\dfrac{n \\sum_{i} x_i y_i - \\sum_{i} y_i \\sum_{i} x_i} {-\\sum_{i} x_i \\sum_{i} x_i + n \\sum_{i} x_i^2} \\sum_{i} x_i } {n}\n",
    "$$\n",
    "\n",
    "$$\n",
    "p_0 = \\dfrac{\\sum_{i} x_i^2 \\sum_{i} y_i - \\sum_{i} x_i \\sum_{i} x_i y_i}{-\\sum_{i} x_i \\sum_{i} x_i + n \\sum_{i} x_i^2}\n",
    "$$\n",
    "\n",
    "We can notice common denominator\n",
    "$$\n",
    "D = -\\sum_{i} x_i \\sum_{i} x_i + n \\sum_{i} x_i^2\n",
    "$$\n",
    "\n",
    "Final formulas:\n",
    "\n",
    "$$\n",
    "D = n \\sum_{i} x_i^2 -\\sum_{i} x_i \\sum_{i} x_i\n",
    "$$\n",
    "$$\n",
    "p_1 = \\dfrac{n \\sum_{i} x_i y_i - \\sum_{i} y_i \\sum_{i} x_i} {D}\n",
    "$$\n",
    "$$\n",
    "p_0 = \\dfrac{\\sum_{i} x_i^2 \\sum_{i} y_i - \\sum_{i} x_i \\sum_{i} x_i y_i}{D}\n",
    "$$\n"
   ],
   "metadata": {
    "collapsed": false
   }
  },
  {
   "cell_type": "code",
   "execution_count": 6,
   "metadata": {
    "collapsed": true,
    "ExecuteTime": {
     "start_time": "2023-04-23T14:21:34.558597Z",
     "end_time": "2023-04-23T14:21:34.568569Z"
    }
   },
   "outputs": [],
   "source": [
    "from typing import List\n",
    "\n",
    "class Point:\n",
    "    def __init__(self, x: float, y: float):\n",
    "        self.X = x\n",
    "        self.Y = y\n",
    "\n",
    "    def __str__(self):\n",
    "        return f'{self.X}, {self.Y}'\n",
    "\n",
    "def approximation1(points: List[Point]):\n",
    "    n = len(points)\n",
    "    sum_x = sum_y = sum_xy = sum_xx = 0\n",
    "    for point in points:\n",
    "        sum_x = sum_x + point.X\n",
    "        sum_y = sum_y + point.Y\n",
    "        sum_xy = sum_xy + point.X * point.Y\n",
    "        sum_xx = sum_xx + point.X**2\n",
    "    denominator = (n * sum_xx) - (sum_x * sum_x)\n",
    "    p1 = ((n * sum_xy) - sum_x * sum_y) / denominator\n",
    "    p0 = (sum_xx * sum_y - sum_x * sum_xy) / denominator\n",
    "    return Point(p0, p1)"
   ]
  },
  {
   "cell_type": "markdown",
   "source": [
    "Let's check for provided points."
   ],
   "metadata": {
    "collapsed": false
   }
  },
  {
   "cell_type": "code",
   "execution_count": 7,
   "outputs": [
    {
     "name": "stdout",
     "output_type": "stream",
     "text": [
      "0.13333333333333333, 7.793939393939394\n"
     ]
    }
   ],
   "source": [
    "points = [Point(1, 10),\n",
    "          Point(2, 18),\n",
    "          Point(3, 22),\n",
    "          Point(4, 27),\n",
    "          Point(5, 36),\n",
    "          Point(6, 49),\n",
    "          Point(7, 56),\n",
    "          Point(8, 64),\n",
    "          Point(9, 70),\n",
    "          Point(10, 78)]\n",
    "\n",
    "print(approximation1(points))"
   ],
   "metadata": {
    "collapsed": false,
    "ExecuteTime": {
     "start_time": "2023-04-23T14:21:34.571562Z",
     "end_time": "2023-04-23T14:21:34.585524Z"
    }
   }
  }
 ],
 "metadata": {
  "kernelspec": {
   "display_name": "Python 3",
   "language": "python",
   "name": "python3"
  },
  "language_info": {
   "codemirror_mode": {
    "name": "ipython",
    "version": 2
   },
   "file_extension": ".py",
   "mimetype": "text/x-python",
   "name": "python",
   "nbconvert_exporter": "python",
   "pygments_lexer": "ipython2",
   "version": "2.7.6"
  }
 },
 "nbformat": 4,
 "nbformat_minor": 0
}
