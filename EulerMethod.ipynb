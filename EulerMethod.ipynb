{
 "cells": [
  {
   "cell_type": "code",
   "execution_count": 40,
   "outputs": [],
   "source": [
    "SKIP_INPUTS = True\n",
    "\n",
    "from typing import Callable, List\n",
    "\n",
    "function_index = 0\n",
    "input_a = 1\n",
    "input_x = 0\n",
    "input_b = 1\n",
    "input_y = 1\n",
    "h = 0.1\n",
    "n = 22\n",
    "should_use_basic = True\n",
    "\n",
    "if not SKIP_INPUTS:\n",
    "\n",
    "    functions_string_array = [\n",
    "        \"F(x, y) = (a · x) + (b · y)\",\n",
    "        \"F(x, y) = (a · x) − (b · y)\",\n",
    "        \"F(x, y) = (a · x) · (b · y)\",\n",
    "        \"F(x, y) = (a·x) / (b·y)\"\n",
    "    ]\n",
    "\n",
    "    functions_formatted_nicely = \"\"\n",
    "    for i in range(0, len(functions_string_array)):\n",
    "        functions_formatted_nicely += f\"{i + 1}) {functions_string_array[i]}\\n\"\n",
    "\n",
    "    choose_function_prompt = f\"Please choose a function F that you want to use by typing the number corresponding to the function:\\n{functions_formatted_nicely}\"\n",
    "    choose_parameter_a_prompt = f\"Specify parameter 'a' for the function {functions_string_array[function_index]}\"\n",
    "    choose_parameter_x_prompt = f\"Specify variable 'x' for the function {functions_string_array[function_index]}\"\n",
    "    choose_parameter_b_prompt = f\"Specify parameter 'b' for the function {functions_string_array[function_index]}\"\n",
    "    choose_parameter_y_prompt = f\"Specify variable 'y' for the function {functions_string_array[function_index]}\"\n",
    "    choose_step_prompt = \"Choose step (h)\"\n",
    "    choose_level_prompt = \"Please specify whether to use [B]asic or [A]dvanced Euler method\"\n",
    "    choose_number_of_iterations_prompt = \"Choose number of iterations (n)\"\n",
    "\n",
    "    function_index = int(input(choose_function_prompt)) - 1\n",
    "    input_a = float(input(choose_parameter_a_prompt))\n",
    "    input_x = float(input(choose_parameter_x_prompt))\n",
    "    input_b = float(input(choose_parameter_b_prompt))\n",
    "    input_y = float(input(choose_parameter_y_prompt))\n",
    "    h = float(input(choose_step_prompt))\n",
    "    n = int(input(choose_number_of_iterations_prompt))\n",
    "    should_use_basic = input(choose_level_prompt) == 'B'\n"
   ],
   "metadata": {
    "collapsed": false,
    "ExecuteTime": {
     "end_time": "2023-06-10T11:22:53.348123200Z",
     "start_time": "2023-06-10T11:22:53.314252600Z"
    }
   }
  },
  {
   "cell_type": "code",
   "execution_count": 41,
   "outputs": [],
   "source": [
    "\n",
    "functions: List[Callable[[float, float, float, float], float]] = [\n",
    "    lambda a, b, x, y,: (a * x) + (b * y),\n",
    "    lambda a, b, x, y,: (a * x) - (b * y),\n",
    "    lambda a, b, x, y,: (a * x) * (b * y),\n",
    "    lambda a, b, x, y,: (a * x) / (b * y)\n",
    "]\n",
    "\n",
    "function: Callable[[float, float], float] = lambda x, y: functions[function_index](input_a, input_b, x, y)"
   ],
   "metadata": {
    "collapsed": false,
    "ExecuteTime": {
     "end_time": "2023-06-10T11:22:53.358802600Z",
     "start_time": "2023-06-10T11:22:53.340183200Z"
    }
   }
  },
  {
   "cell_type": "code",
   "execution_count": 42,
   "outputs": [],
   "source": [
    "def basic_euler_method(x_0: float, y_0: float, count: int, step:float, f: Callable[[float, float], float]):\n",
    "    x = [0] * (count + 1)\n",
    "    y = [0] * (count + 1)\n",
    "\n",
    "    x[0] = x_0\n",
    "    y[0] = y_0\n",
    "\n",
    "    for count in range(0, count):\n",
    "        x[count + 1] = x[0] + count * step\n",
    "        y[count + 1] = y[count] + step * f(x[count], y[count])\n",
    "\n",
    "    return x, y\n",
    "\n",
    "def improved_euler_method(x_0: float, y_0: float, count: int, step:float, f: Callable[[float, float], float]):\n",
    "    x = [0] * (count + 1)\n",
    "    y = [0] * (count + 1)\n",
    "\n",
    "    x[0] = x_0\n",
    "    y[0] = y_0\n",
    "\n",
    "    for i in range(1, count + 1):\n",
    "        x[i] = x[0] + i * step\n",
    "\n",
    "\n",
    "    for i in range(0, count):\n",
    "        x_star = 0.5 * (x[i] + x[i+1])\n",
    "        y_star = y[i] + 0.5 * step * f(x[i], y[i])\n",
    "        m_star = f(x_star, y_star)\n",
    "        y[i+1] = y[i] + step * m_star\n",
    "\n",
    "    return x, y"
   ],
   "metadata": {
    "collapsed": false,
    "ExecuteTime": {
     "end_time": "2023-06-10T11:22:53.369770800Z",
     "start_time": "2023-06-10T11:22:53.357804600Z"
    }
   }
  },
  {
   "cell_type": "code",
   "execution_count": 43,
   "outputs": [],
   "source": [
    "draw_x, draw_y = [], []\n",
    "\n",
    "if should_use_basic:\n",
    "    draw_x, draw_y = basic_euler_method(input_x, input_y,n, h, function)\n",
    "else:\n",
    "    draw_x, draw_y = improved_euler_method(input_x, input_y,n, h, function)"
   ],
   "metadata": {
    "collapsed": false,
    "ExecuteTime": {
     "end_time": "2023-06-10T11:22:53.391720100Z",
     "start_time": "2023-06-10T11:22:53.372766300Z"
    }
   }
  },
  {
   "cell_type": "code",
   "execution_count": 44,
   "outputs": [
    {
     "data": {
      "text/plain": "[<matplotlib.lines.Line2D at 0x22a7e4555e0>]"
     },
     "execution_count": 44,
     "metadata": {},
     "output_type": "execute_result"
    },
    {
     "data": {
      "text/plain": "<Figure size 640x480 with 1 Axes>",
      "image/png": "[encoded data removed]"
     },
     "metadata": {},
     "output_type": "display_data"
    }
   ],
   "source": [
    "import matplotlib.pyplot as plot\n",
    "\n",
    "plot.scatter(draw_x, draw_y, c=\"orange\")\n",
    "plot.plot(draw_x, draw_y)"
   ],
   "metadata": {
    "collapsed": false,
    "ExecuteTime": {
     "end_time": "2023-06-10T11:22:53.539055700Z",
     "start_time": "2023-06-10T11:22:53.387723100Z"
    }
   }
  }
 ],
 "metadata": {
  "kernelspec": {
   "display_name": "Python 3",
   "language": "python",
   "name": "python3"
  },
  "language_info": {
   "codemirror_mode": {
    "name": "ipython",
    "version": 2
   },
   "file_extension": ".py",
   "mimetype": "text/x-python",
   "name": "python",
   "nbconvert_exporter": "python",
   "pygments_lexer": "ipython2",
   "version": "2.7.6"
  }
 },
 "nbformat": 4,
 "nbformat_minor": 0
}
