{
 "cells": [
  {
   "cell_type": "markdown",
   "metadata": {},
   "source": [
    "# Lagrange expansion\n",
    "Jakub Seredyński 54589\n",
    "\n",
    "# Task:\n",
    "## Implement the function from the image below:\n",
    "\n",
    "<img src=\"Equation.png\">\n",
    "\n",
    "# Solution\n",
    "\n",
    "In the equation we have two main functions:\n",
    "1. **Repeated Sum** represented by Big Sigma\n",
    "2. **Repeated Multiplication** represented by Big Pi\n",
    "\n",
    "Let's implement them in code and write the main function using them."
   ]
  },
  {
   "cell_type": "markdown",
   "metadata": {},
   "source": [
    "# Repeated sum"
   ]
  },
  {
   "cell_type": "markdown",
   "metadata": {},
   "source": []
  },
  {
   "cell_type": "code",
   "execution_count": 8,
   "metadata": {
    "ExecuteTime": {
     "end_time": "2023-04-21T22:06:06.432066Z",
     "start_time": "2023-04-21T22:06:06.227155Z"
    }
   },
   "outputs": [],
   "source": [
    "from typing import Callable\n",
    "\n",
    "\n",
    "def repeated_sum_first(count: int, function: Callable[[int], float]):\n",
    "    result = 0\n",
    "    for i in range(0, count):\n",
    "        result = result + function(i)\n",
    "    return result"
   ]
  },
  {
   "cell_type": "markdown",
   "metadata": {},
   "source": [
    "This function takes a count (the number above the sigma assuming we start from zero) and a method to sum.\n",
    "\n",
    "Let's check the sum of numbers from 0 to 10 which we know should equal to 55"
   ]
  },
  {
   "cell_type": "code",
   "execution_count": 9,
   "metadata": {
    "ExecuteTime": {
     "end_time": "2023-04-21T22:06:06.435094Z",
     "start_time": "2023-04-21T22:06:06.258803Z"
    }
   },
   "outputs": [
    {
     "data": {
      "text/plain": [
       "True"
      ]
     },
     "execution_count": 9,
     "metadata": {},
     "output_type": "execute_result"
    }
   ],
   "source": [
    "repeated_result = repeated_sum_first(11, lambda x: x)\n",
    "expected_result = 55\n",
    "\n",
    "expected_result == repeated_result"
   ]
  },
  {
   "cell_type": "markdown",
   "metadata": {},
   "source": [
    "# Repeated multiplication"
   ]
  },
  {
   "cell_type": "code",
   "execution_count": 10,
   "metadata": {
    "ExecuteTime": {
     "end_time": "2023-04-21T22:06:06.442123Z",
     "start_time": "2023-04-21T22:06:06.290795Z"
    }
   },
   "outputs": [],
   "source": [
    "def repeated_multiplication_first(count: int, function: Callable[[int], float]):\n",
    "    result = 1\n",
    "    for i in range(0, count):\n",
    "        result = result * function(i)\n",
    "    return result"
   ]
  },
  {
   "cell_type": "markdown",
   "metadata": {},
   "source": [
    "# Joining methods\n",
    "As we can see the methods are very similar, we can extract the main part. Additionally, the repeated multiplication in the formula in the picture has a skipping condition for `i == j`, let's also include it."
   ]
  },
  {
   "cell_type": "code",
   "execution_count": 11,
   "metadata": {
    "ExecuteTime": {
     "end_time": "2023-04-21T22:06:06.447043Z",
     "start_time": "2023-04-21T22:06:06.315827Z"
    }
   },
   "outputs": [],
   "source": [
    "from typing import  List\n",
    "\n",
    "def iterative_math(count: int, skip_conditions: List[Callable[[int], bool]],\n",
    "                   function_to_execute: Callable[[int], float],\n",
    "                   initial_value: float, iterative_function: Callable[[float, float], float]):\n",
    "    result = initial_value\n",
    "    for i in range(0, count):\n",
    "        if any(condition(i) for condition in skip_conditions):\n",
    "            continue\n",
    "        result = iterative_function(result, function_to_execute(i))\n",
    "    return result\n",
    "\n",
    "\n",
    "def sum(count: int, skip_conditions: List[Callable[[int], bool]], function_to_sum: Callable[[int], float]):\n",
    "    return iterative_math(count, skip_conditions, function_to_sum, 0, lambda r, s: r + s)\n",
    "\n",
    "\n",
    "def multiply(count: int, skip_conditions: List[Callable[[int], bool]], function_to_multiply: Callable[[int], float]):\n",
    "    return iterative_math(count, skip_conditions, function_to_multiply, 1, lambda r, s: r * s)\n"
   ]
  },
  {
   "cell_type": "markdown",
   "metadata": {},
   "source": [
    "# Points\n",
    "With the formula ready, we're only missing the structure to hold points. Luckily it's not that hard to implement"
   ]
  },
  {
   "cell_type": "code",
   "execution_count": 12,
   "metadata": {
    "ExecuteTime": {
     "end_time": "2023-04-21T22:06:06.459014Z",
     "start_time": "2023-04-21T22:06:06.342845Z"
    }
   },
   "outputs": [],
   "source": [
    "class Point:\n",
    "    def __init__(self, x: float, y: float):\n",
    "        self.X = x\n",
    "        self.Y = y\n"
   ]
  },
  {
   "cell_type": "markdown",
   "metadata": {},
   "source": [
    "# Final formula"
   ]
  },
  {
   "cell_type": "code",
   "execution_count": 13,
   "metadata": {
    "ExecuteTime": {
     "end_time": "2023-04-21T22:06:06.460009Z",
     "start_time": "2023-04-21T22:06:06.359260Z"
    }
   },
   "outputs": [],
   "source": [
    "def solve(x: float, points: List[Point]):\n",
    "    return sum(count=len(points),\n",
    "               skip_conditions=[],\n",
    "               function_to_sum=\n",
    "                   lambda i: points[i].Y * multiply(\n",
    "                       count=len(points),\n",
    "                       skip_conditions=[lambda j: j == i],\n",
    "                       function_to_multiply=\n",
    "                           lambda j: (x - points[j].X) / (points[i].X - points[j].X)\n",
    "               ))"
   ]
  },
  {
   "cell_type": "markdown",
   "metadata": {},
   "source": [
    "It looks a bit conveluted but it literal translation of the mathemathical formula to the code.\n",
    "\n",
    "# Results\n",
    "\n",
    "Point collection 1: (0, 4), (1, 2), (2.5, 2.75)\n",
    "Point collection 2: (−2, 9),(−1, 4),(1, 0),(3, 4),(4, 9),(5, 16),(7, 20),(11, 5)\n",
    "\n",
    "Let's put them into code\n",
    "\n",
    "## Function 1"
   ]
  },
  {
   "cell_type": "code",
   "execution_count": 14,
   "metadata": {
    "ExecuteTime": {
     "end_time": "2023-04-21T22:06:07.799903Z",
     "start_time": "2023-04-21T22:06:06.371229Z"
    }
   },
   "outputs": [
    {
     "data": {
      "text/plain": [
       "[<matplotlib.lines.Line2D at 0x1929460a130>]"
      ]
     },
     "execution_count": 14,
     "metadata": {},
     "output_type": "execute_result"
    },
    {
     "data": {
      "image/png": "[encoded data removed]",
      "text/plain": [
       "<Figure size 640x480 with 1 Axes>"
      ]
     },
     "metadata": {},
     "output_type": "display_data"
    }
   ],
   "source": [
    "import matplotlib.pyplot as plot\n",
    "import numpy\n",
    "\n",
    "function1: List[Point] = [Point(0, 4), Point(1, 2), Point(2.5, 2.75)]\n",
    "\n",
    "plot.scatter(list(point.X for point in function1), list(point.Y for point in function1), c=\"orange\")\n",
    "\n",
    "function1_draw_X = []\n",
    "function1_draw_y = []\n",
    "for x in numpy.linspace(-1, 3, 1000):\n",
    "    function1_draw_X.append(x)\n",
    "    function1_draw_y.append(solve(x, points=function1))\n",
    "\n",
    "plot.plot(function1_draw_X, function1_draw_y)"
   ]
  },
  {
   "cell_type": "markdown",
   "metadata": {},
   "source": [
    "## Function 2"
   ]
  },
  {
   "cell_type": "code",
   "execution_count": 15,
   "metadata": {
    "ExecuteTime": {
     "end_time": "2023-04-21T22:06:08.191349Z",
     "start_time": "2023-04-21T22:06:07.807882Z"
    }
   },
   "outputs": [
    {
     "data": {
      "text/plain": [
       "[<matplotlib.lines.Line2D at 0x19294673430>]"
      ]
     },
     "execution_count": 15,
     "metadata": {},
     "output_type": "execute_result"
    },
    {
     "data": {
      "image/png": "[encoded data removed]",
      "text/plain": [
       "<Figure size 640x480 with 1 Axes>"
      ]
     },
     "metadata": {},
     "output_type": "display_data"
    }
   ],
   "source": [
    "function2: List[Point] = [Point(-2, 9), Point(-1, 4), Point(1, 0), Point(3, 4), Point(4, 9), Point(5, 16), Point(7, 20), Point(11, 5)]\n",
    "\n",
    "plot.scatter(list(point.X for point in function2), list(point.Y for point in function2), c=\"orange\")\n",
    "\n",
    "function2_draw_X = []\n",
    "function2_draw_y = []\n",
    "for x in numpy.linspace(-2, 11, 1000):\n",
    "    function2_draw_X.append(x)\n",
    "    function2_draw_y.append(solve(x, points=function2))\n",
    "\n",
    "plot.plot(function2_draw_X, function2_draw_y)"
   ]
  }
 ],
 "metadata": {
  "kernelspec": {
   "display_name": "Python 3 (ipykernel)",
   "language": "python",
   "name": "python3"
  },
  "language_info": {
   "codemirror_mode": {
    "name": "ipython",
    "version": 3
   },
   "file_extension": ".py",
   "mimetype": "text/x-python",
   "name": "python",
   "nbconvert_exporter": "python",
   "pygments_lexer": "ipython3",
   "version": "3.9.13"
  }
 },
 "nbformat": 4,
 "nbformat_minor": 1
}
