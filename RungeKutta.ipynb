{
 "cells": [
  {
   "cell_type": "code",
   "execution_count": 35,
   "outputs": [],
   "source": [
    "functions = [\n",
    "    lambda a, b, x, y, : (a * x) + (b * y),\n",
    "    lambda a, b, x, y, : (a * x) - (b * y),\n",
    "    lambda a, b, x, y, : (a * x) * (b * y),\n",
    "    lambda a, b, x, y, : (a * x) / (b * y)\n",
    "]\n",
    "\n",
    "prompt = \"\"\" Please choose a function F that you want to use by typing the number corresponding to the function:\n",
    "1) F(x, y) = (a · x) + (b · y),\n",
    "2) F(x, y) = (a · x) − (b · y),\n",
    "3) F(x, y) = (a · x) · (b · y),\n",
    "4) F(x, y) = (a·x_ / (b·y);\n",
    "\"\"\"\n",
    "\n",
    "# response = input()\n",
    "# fun = functions[int(response) - 1]\n",
    "fun = functions[0]\n",
    "function = lambda x, y : fun(1, 1, x, y)"
   ],
   "metadata": {
    "collapsed": false,
    "ExecuteTime": {
     "end_time": "2023-05-29T17:16:23.961891600Z",
     "start_time": "2023-05-29T17:16:23.950921200Z"
    }
   }
  },
  {
   "cell_type": "code",
   "execution_count": 36,
   "outputs": [
    {
     "name": "stdout",
     "output_type": "stream",
     "text": [
      "0.30000000000000004 1.2427867222222222\n"
     ]
    }
   ],
   "source": [
    "from typing import Callable\n",
    "\n",
    "m_13: Callable[[float, float], float] = lambda xi, yi : function(xi, yi)\n",
    "m_23: Callable[[float, float, float], float] = lambda xi, yi, h : function(xi + h / 2, yi + h * m_13(xi, yi) / 2)\n",
    "m_33: Callable[[float, float, float], float] = lambda xi, yi, h : function(xi + h, yi - h * m_13(xi, yi) + 2 * h * m_23(xi, yi, h))\n",
    "\n",
    "def runge3(x, y, h):\n",
    "    for i in range(1, 3):\n",
    "        y = y + h / 6 * (m_13(x, y) + 4 * m_23(x, y, h) + m_33(x, y, h))\n",
    "        x = x + i * h\n",
    "    print(x, y)\n",
    "\n",
    "runge3(0, 1, 0.1)"
   ],
   "metadata": {
    "collapsed": false,
    "ExecuteTime": {
     "end_time": "2023-05-29T17:16:23.991911600Z",
     "start_time": "2023-05-29T17:16:23.972896600Z"
    }
   }
  },
  {
   "cell_type": "code",
   "execution_count": 37,
   "outputs": [
    {
     "name": "stdout",
     "output_type": "stream",
     "text": [
      "0.30000000000000004 0.1435428279357639\n"
     ]
    }
   ],
   "source": [
    "\n",
    "m_14: Callable[[float, float], float] = lambda xi, yi : function(xi, yi)\n",
    "m_24: Callable[[float, float, float], float] = lambda xi, yi, h : function(xi + h / 2, yi + h * m_14(xi, yi) / 2)\n",
    "m_34: Callable[[float, float, float], float] = lambda xi, yi, h : function(xi + h / 2, yi + h * m_24(xi, yi, h) / 2)\n",
    "m_44: Callable[[float, float, float], float]  = lambda xi, yi, h : function(xi + h, yi + h * m_34(xi, yi, h))\n",
    "\n",
    "def runge3(x, y, h):\n",
    "    for i in range(1, 3):\n",
    "        y = y + h / 6 * (m_14(x, y) + 2 * m_24(x, y, h) + 2 * m_34(x, y, h) + m_44(x, y, h))\n",
    "        x = x + i * h\n",
    "    print(x, y)\n",
    "\n",
    "\n",
    "runge3(0, 0.1, 0.1)"
   ],
   "metadata": {
    "collapsed": false,
    "ExecuteTime": {
     "end_time": "2023-05-29T17:16:24.007870300Z",
     "start_time": "2023-05-29T17:16:24.001885600Z"
    }
   }
  }
 ],
 "metadata": {
  "kernelspec": {
   "display_name": "Python 3",
   "language": "python",
   "name": "python3"
  },
  "language_info": {
   "codemirror_mode": {
    "name": "ipython",
    "version": 2
   },
   "file_extension": ".py",
   "mimetype": "text/x-python",
   "name": "python",
   "nbconvert_exporter": "python",
   "pygments_lexer": "ipython2",
   "version": "2.7.6"
  }
 },
 "nbformat": 4,
 "nbformat_minor": 0
}
