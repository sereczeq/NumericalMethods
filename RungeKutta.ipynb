{
 "cells": [
  {
   "cell_type": "code",
   "execution_count": 16,
   "outputs": [],
   "source": [
    "from typing import Callable, List\n",
    "\n",
    "SKIP_INPUTS = True\n",
    "\n",
    "function_index = 0\n",
    "input_a = 1\n",
    "input_x = 0\n",
    "input_b = 1\n",
    "input_y = 1\n",
    "h = 0.1\n",
    "n = 2\n",
    "should_use_3 = True\n",
    "\n",
    "if not SKIP_INPUTS:\n",
    "\n",
    "    functions_string_array = [\n",
    "        \"F(x, y) = (a · x) + (b · y)\",\n",
    "        \"F(x, y) = (a · x) − (b · y)\",\n",
    "        \"F(x, y) = (a · x) · (b · y)\",\n",
    "        \"F(x, y) = (a·x) / (b·y)\"\n",
    "    ]\n",
    "\n",
    "    functions_formatted_nicely = \"\"\n",
    "    for i in range(0, len(functions_string_array)):\n",
    "        functions_formatted_nicely += f\"{i + 1}) {functions_string_array[i]}\\n\"\n",
    "\n",
    "    choose_function_prompt = f\"Please choose a function F that you want to use by typing the number corresponding to the function:\\n{functions_formatted_nicely}\"\n",
    "    choose_parameter_a_prompt = f\"Specify parameter 'a' for the function {functions_string_array[function_index]}\"\n",
    "    choose_parameter_x_prompt = f\"Specify variable 'x' for the function {functions_string_array[function_index]}\"\n",
    "    choose_parameter_b_prompt = f\"Specify parameter 'b' for the function {functions_string_array[function_index]}\"\n",
    "    choose_parameter_y_prompt = f\"Specify variable 'y' for the function {functions_string_array[function_index]}\"\n",
    "    choose_step_prompt = \"Choose step (h)\"\n",
    "    choose_index_prompt = \"Please choose the index of the Runge Kutta method to use (3 or 4)\"\n",
    "    choose_number_of_iterations_prompt = \"Choose number of iterations (n)\"\n",
    "\n",
    "    function_index = int(input(choose_function_prompt)) - 1\n",
    "    input_a = float(input(choose_parameter_a_prompt))\n",
    "    input_x = float(input(choose_parameter_x_prompt))\n",
    "    input_b = float(input(choose_parameter_b_prompt))\n",
    "    input_y = float(input(choose_parameter_y_prompt))\n",
    "    h = float(input(choose_step_prompt))\n",
    "    n = int(input(choose_number_of_iterations_prompt))\n",
    "    should_use_3 = int(input(choose_index_prompt)) == 3\n"
   ],
   "metadata": {
    "collapsed": false,
    "ExecuteTime": {
     "end_time": "2023-05-29T21:05:37.990038Z",
     "start_time": "2023-05-29T21:05:37.932371500Z"
    }
   }
  },
  {
   "cell_type": "code",
   "execution_count": 17,
   "outputs": [],
   "source": [
    "\n",
    "functions: List[Callable[[float, float, float, float], float]] = [\n",
    "    lambda a, b, x, y,: (a * x) + (b * y),\n",
    "    lambda a, b, x, y,: (a * x) - (b * y),\n",
    "    lambda a, b, x, y,: (a * x) * (b * y),\n",
    "    lambda a, b, x, y,: (a * x) / (b * y)\n",
    "]\n",
    "\n",
    "function: Callable[[float, float], float] = lambda x, y: functions[function_index](input_a, input_b, x, y)"
   ],
   "metadata": {
    "collapsed": false,
    "ExecuteTime": {
     "end_time": "2023-05-29T21:05:38.021705900Z",
     "start_time": "2023-05-29T21:05:37.976221100Z"
    }
   }
  },
  {
   "cell_type": "code",
   "execution_count": 18,
   "outputs": [],
   "source": [
    "m_13: Callable[[float, float], float] = lambda xi, yi : function(xi, yi)\n",
    "m_23: Callable[[float, float], float] = lambda xi, yi : function(xi + h / 2, yi + h * m_13(xi, yi) / 2)\n",
    "m_33: Callable[[float, float], float] = lambda xi, yi : function(xi + h, yi - h * m_13(xi, yi) + 2 * h * m_23(xi, yi))\n",
    "\n",
    "def runge3(x0, y0):\n",
    "    x = x0\n",
    "    y = y0\n",
    "    for i in range(1, n + 1):\n",
    "        y = y + h / 6 * (m_13(x, y) + 4 * m_23(x, y) + m_33(x, y))\n",
    "        x = x0 + i * h\n",
    "        print(x, y)\n"
   ],
   "metadata": {
    "collapsed": false,
    "ExecuteTime": {
     "end_time": "2023-05-29T21:05:38.092720400Z",
     "start_time": "2023-05-29T21:05:38.010432100Z"
    }
   }
  },
  {
   "cell_type": "code",
   "execution_count": 19,
   "outputs": [],
   "source": [
    "m_14: Callable[[float, float], float] = lambda xi, yi : function(xi, yi)\n",
    "m_24: Callable[[float, float], float] = lambda xi, yi : function(xi + h / 2, yi + h * m_14(xi, yi) / 2)\n",
    "m_34: Callable[[float, float], float] = lambda xi, yi : function(xi + h / 2, yi + h * m_24(xi, yi) / 2)\n",
    "m_44: Callable[[float, float], float]  = lambda xi, yi : function(xi + h, yi + h * m_34(xi, yi))\n",
    "\n",
    "def runge4(x0, y0):\n",
    "    x = x0\n",
    "    y = y0\n",
    "    for i in range(1, n + 1):\n",
    "        y = y + h / 6 * (m_14(x, y) + 2 * m_24(x, y) + 2 * m_34(x, y) + m_44(x, y))\n",
    "        x = x + h\n",
    "        print(x, y)\n",
    "\n"
   ],
   "metadata": {
    "collapsed": false,
    "ExecuteTime": {
     "end_time": "2023-05-29T21:05:38.103417300Z",
     "start_time": "2023-05-29T21:05:38.047065Z"
    }
   }
  },
  {
   "cell_type": "code",
   "execution_count": 20,
   "outputs": [
    {
     "name": "stdout",
     "output_type": "stream",
     "text": [
      "0.1 1.1103333333333334\n",
      "0.2 1.2427867222222222\n"
     ]
    }
   ],
   "source": [
    "if should_use_3:\n",
    "    runge3(input_x, input_y)\n",
    "else:\n",
    "    runge4(input_x, input_y)"
   ],
   "metadata": {
    "collapsed": false,
    "ExecuteTime": {
     "end_time": "2023-05-29T21:05:38.105003200Z",
     "start_time": "2023-05-29T21:05:38.093769500Z"
    }
   }
  }
 ],
 "metadata": {
  "kernelspec": {
   "display_name": "Python 3",
   "language": "python",
   "name": "python3"
  },
  "language_info": {
   "codemirror_mode": {
    "name": "ipython",
    "version": 2
   },
   "file_extension": ".py",
   "mimetype": "text/x-python",
   "name": "python",
   "nbconvert_exporter": "python",
   "pygments_lexer": "ipython2",
   "version": "2.7.6"
  }
 },
 "nbformat": 4,
 "nbformat_minor": 0
}
