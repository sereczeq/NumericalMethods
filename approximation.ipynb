{
 "cells": [
  {
   "cell_type": "markdown",
   "source": [
    "# Approximation\n",
    "Jakub Seredyński 54589\n",
    "\n",
    "## Implement the equation\n",
    "$$\n",
    "\\begin{cases}\n",
    "p_0 * n + p_1 * \\sum_{i} x_i = \\sum_{i} y_i \\\\\n",
    "p_0 \\sum_{i} x_i + p_1 \\sum_{i} x_i^2 = \\sum_{i} x_i y_i \\\\\n",
    "\\end{cases}\n",
    "$$\n",
    "\n",
    "Extracting p0 to inject into second equation\n",
    "\n",
    "$$\n",
    "p_0 = \\dfrac{\\sum_{i} y_i - p_1 \\sum_{i} x_i } {n}\n",
    "$$\n",
    "\n",
    "Solving for p1\n",
    "\n",
    "$$\n",
    "\n",
    "\\begin{align}\n",
    "\n",
    "\\dfrac{\\sum_{i} y_i - p_1 \\sum_{i} x_i } {n} \\sum_{i} x_i + p_1 \\sum_{i} x_i^2 &= \\sum_{i} x_i y_i \\\\\n",
    "\n",
    "(\\sum_{i} y_i - p_1 \\sum_{i} x_i) \\sum_{i} x_i + p_1 n \\sum_{i} x_i^2 &= n \\sum_{i} x_i y_i \\\\\n",
    "\n",
    "\\sum_{i} y_i \\sum_{i} x_i - p_1 \\sum_{i} x_i \\sum_{i} x_i + p_1 n \\sum_{i} x_i^2 &= n \\sum_{i} x_i y_i \\\\\n",
    "\n",
    "-p_1 \\sum_{i} x_i \\sum_{i} x_i + p_1 n \\sum_{i} x_i^2 &= n \\sum_{i} x_i y_i - \\sum_{i} y_i \\sum_{i} x_i \\\\\n",
    "\n",
    "p_1 (-\\sum_{i} x_i \\sum_{i} x_i + n \\sum_{i} x_i^2) &= n \\sum_{i} x_i y_i - \\sum_{i} y_i \\sum_{i} x_i \\\\\n",
    "\n",
    "p_1 &= \\dfrac{n \\sum_{i} x_i y_i - \\sum_{i} y_i \\sum_{i} x_i} {-\\sum_{i} x_i \\sum_{i} x_i + n \\sum_{i} x_i^2} \\\\\n",
    "\n",
    "\n",
    "\\end{align}\n",
    "\n",
    "$$\n",
    "\n",
    "Solving for p0 using solved p1\n",
    "\n",
    "$$\n",
    "p_0 = \\dfrac{\\sum_{i} y_i - \\dfrac{n \\sum_{i} x_i y_i - \\sum_{i} y_i \\sum_{i} x_i} {-\\sum_{i} x_i \\sum_{i} x_i + n \\sum_{i} x_i^2} \\sum_{i} x_i } {n} \\\\\n",
    "p_0 = \\dfrac{\\sum_{i} x_i^2 \\sum_{i} y_i - \\sum_{i} x_i \\sum_{i} x_i y_i}{-\\sum_{i} x_i \\sum_{i} x_i + n \\sum_{i} x_i^2} \\\\\n",
    "$$\n",
    "\n",
    "We can notice common denominator\n",
    "$$\n",
    "D = -\\sum_{i} x_i \\sum_{i} x_i + n \\sum_{i} x_i^2\n",
    "$$\n",
    "\n",
    "Final formulas:\n",
    "\n",
    "$$\n",
    "D = n \\sum_{i} x_i^2 -\\sum_{i} x_i \\sum_{i} x_i \\\\\n",
    "p_1 = \\dfrac{n \\sum_{i} x_i y_i - \\sum_{i} y_i \\sum_{i} x_i} {D} \\\\\n",
    "p_0 = \\dfrac{\\sum_{i} x_i^2 \\sum_{i} y_i - \\sum_{i} x_i \\sum_{i} x_i y_i}{D} \\\\\n",
    "$$\n"
   ],
   "metadata": {
    "collapsed": false
   }
  },
  {
   "cell_type": "code",
   "execution_count": 68,
   "metadata": {
    "collapsed": true,
    "ExecuteTime": {
     "start_time": "2023-04-29T13:45:09.620944Z",
     "end_time": "2023-04-29T13:45:09.791200Z"
    }
   },
   "outputs": [],
   "source": [
    "from typing import List\n",
    "\n",
    "class Point:\n",
    "    def __init__(self, x: float, y: float):\n",
    "        self.X = x\n",
    "        self.Y = y\n",
    "\n",
    "    def __str__(self):\n",
    "        return f'{self.X}, {self.Y}'\n",
    "\n",
    "def approximation1(points: List[Point]):\n",
    "    n = len(points)\n",
    "    sum_x = sum_y = sum_xy = sum_xx = 0\n",
    "    for point in points:\n",
    "        sum_x = sum_x + point.X\n",
    "        sum_y = sum_y + point.Y\n",
    "        sum_xy = sum_xy + point.X * point.Y\n",
    "        sum_xx = sum_xx + point.X**2\n",
    "    denominator = (n * sum_xx) - (sum_x * sum_x)\n",
    "    p1 = ((n * sum_xy) - sum_x * sum_y) / denominator\n",
    "    p0 = (sum_xx * sum_y - sum_x * sum_xy) / denominator\n",
    "    return Point(p0, p1)"
   ]
  },
  {
   "cell_type": "markdown",
   "source": [
    "Let's check for provided points."
   ],
   "metadata": {
    "collapsed": false
   }
  },
  {
   "cell_type": "code",
   "execution_count": 69,
   "outputs": [
    {
     "name": "stdout",
     "output_type": "stream",
     "text": [
      "0.13333333333333333, 7.793939393939394\n"
     ]
    }
   ],
   "source": [
    "points = [Point(1, 10),\n",
    "          Point(2, 18),\n",
    "          Point(3, 22),\n",
    "          Point(4, 27),\n",
    "          Point(5, 36),\n",
    "          Point(6, 49),\n",
    "          Point(7, 56),\n",
    "          Point(8, 64),\n",
    "          Point(9, 70),\n",
    "          Point(10, 78)]\n",
    "\n",
    "print(approximation1(points))"
   ],
   "metadata": {
    "collapsed": false,
    "ExecuteTime": {
     "start_time": "2023-04-29T13:45:09.657362Z",
     "end_time": "2023-04-29T13:45:09.802325Z"
    }
   }
  },
  {
   "cell_type": "markdown",
   "source": [
    "# Non linear example\n",
    "\n",
    "# Implement the equation\n",
    "\n",
    "$$\n",
    "\n",
    "\\begin{cases}\n",
    "nA + b \\sum t = \\sum Y \\\\\n",
    "A \\sum t + b \\sum t^2 = \\sum tY \\\\\n",
    "\\end{cases} \\\\\n",
    "\n",
    "$$\n",
    "\n",
    "For clarity, I simplified\n",
    "\n",
    "$$\n",
    "\n",
    "\n",
    "Y = \\ln T \\\\\n",
    "\n",
    "$$\n",
    "\n",
    "Extracting b to inject into second equation\n",
    "\n",
    "$$\n",
    "b = \\dfrac{ \\sum Y - nA}{\\sum t} \\\\\n",
    "$$\n",
    "\n",
    "\n",
    "Solving for A\n",
    "\n",
    "$$\n",
    "\n",
    "\\begin{align} \\\\\n",
    "b &= \\dfrac{ \\sum Y - nA}{\\sum t} \\\\\n",
    "\n",
    "A &= \\dfrac{\\sum tY - b \\sum t^2}{\\sum t} \\\\\n",
    "\n",
    "A &= \\dfrac{\\sum tY - \\dfrac{ \\sum Y - nA}{\\sum t} \\sum t^2}{\\sum t} \\\\\n",
    "\n",
    "A \\sum t &= \\sum tY - \\dfrac{ \\sum Y - nA}{\\sum t} \\sum t^2 \\\\\n",
    "\n",
    "A \\sum t + \\dfrac{ \\sum Y - nA}{\\sum t} \\sum t^2 &= \\sum tY \\\\\n",
    "\n",
    "A \\sum t \\sum t + (\\sum Y - nA) \\sum t^2 &= \\sum tY \\sum t \\\\\n",
    "\n",
    "A \\sum t \\sum t + \\sum Y \\sum t^2 - nA \\sum t^2 &= \\sum tY \\sum t \\\\\n",
    "\n",
    "A \\sum t \\sum t - nA \\sum t^2 &= \\sum tY \\sum t - \\sum Y \\sum t^2 \\\\\n",
    "\n",
    "A &= \\dfrac{\\sum tY \\sum t - \\sum Y \\sum t^2}{\\sum t \\sum t - n \\sum t^2} \\\\\n",
    "\n",
    "\\end{align}\n",
    "\n",
    "\n",
    "$$\n",
    "\n",
    "## Final formulas\n",
    "\n",
    "$$\n",
    "A = \\dfrac{\\sum tY \\sum t - \\sum Y \\sum t^2}{\\sum t \\sum t - n \\sum t^2} \\\\\n",
    "b = \\dfrac{ \\sum Y - nA}{\\sum t} \\\\\n",
    "a = \\exp(A)\n",
    "\n",
    "$$\n",
    "\n",
    "# Let's code it"
   ],
   "metadata": {
    "collapsed": false
   }
  },
  {
   "cell_type": "code",
   "execution_count": 70,
   "outputs": [
    {
     "name": "stdout",
     "output_type": "stream",
     "text": [
      "99.97182112375988, -0.0018120302829381292\n"
     ]
    }
   ],
   "source": [
    "import math\n",
    "\n",
    "\n",
    "def non_linear(points: List[Point]):\n",
    "    sum_t = sum_Y = sum_tt = sum_tY = 0\n",
    "    n = len(points)\n",
    "    for point in points:\n",
    "        t = point.X\n",
    "        T = point.Y\n",
    "        Y = math.log(T)\n",
    "        sum_t = sum_t + t\n",
    "        sum_Y = sum_Y + Y\n",
    "        sum_tt = sum_tt + t**2\n",
    "        sum_tY = sum_tY + (t * Y)\n",
    "    A = ((sum_tY * sum_t) - (sum_Y * sum_tt)) / ((sum_t * sum_t) - (n * sum_tt))\n",
    "    b = (sum_Y - (A * n)) / sum_t\n",
    "    a = math.exp(A)\n",
    "    return Point(a, b)\n",
    "\n",
    "points2 = [Point(0, 100),\n",
    "           Point(60, 90),\n",
    "           Point(120, 80),\n",
    "           Point(180, 72),\n",
    "           Point(240, 65),\n",
    "           Point(300, 58)]\n",
    "\n",
    "calculated_point = non_linear(points2)\n",
    "\n",
    "print(calculated_point)"
   ],
   "metadata": {
    "collapsed": false,
    "ExecuteTime": {
     "start_time": "2023-04-29T13:45:09.711265Z",
     "end_time": "2023-04-29T13:45:09.803324Z"
    }
   }
  },
  {
   "cell_type": "markdown",
   "source": [
    "## Now let's draw the graph"
   ],
   "metadata": {
    "collapsed": false
   }
  },
  {
   "cell_type": "code",
   "execution_count": 71,
   "outputs": [
    {
     "data": {
      "text/plain": "[<matplotlib.lines.Line2D at 0x2a78546e340>]"
     },
     "execution_count": 71,
     "metadata": {},
     "output_type": "execute_result"
    },
    {
     "data": {
      "text/plain": "<Figure size 640x480 with 1 Axes>",
      "image/png": "[encoded data removed]"
     },
     "metadata": {},
     "output_type": "display_data"
    }
   ],
   "source": [
    "import numpy\n",
    "import matplotlib.pyplot as plot\n",
    "\n",
    "def non_linear_graph(x : float, point : Point):\n",
    "    return point.X * math.exp(point.Y * x)\n",
    "\n",
    "plot.scatter(list(point.X for point in points2), list(point.Y for point in points2), c=\"orange\")\n",
    "\n",
    "function1_draw_X = []\n",
    "function1_draw_y = []\n",
    "for x in numpy.linspace(0, 300, 1000):\n",
    "    function1_draw_X.append(x)\n",
    "    function1_draw_y.append(non_linear_graph(x, calculated_point))\n",
    "\n",
    "plot.plot(function1_draw_X, function1_draw_y)"
   ],
   "metadata": {
    "collapsed": false,
    "ExecuteTime": {
     "start_time": "2023-04-29T13:45:09.770092Z",
     "end_time": "2023-04-29T13:45:10.001748Z"
    }
   }
  }
 ],
 "metadata": {
  "kernelspec": {
   "display_name": "Python 3",
   "language": "python",
   "name": "python3"
  },
  "language_info": {
   "codemirror_mode": {
    "name": "ipython",
    "version": 2
   },
   "file_extension": ".py",
   "mimetype": "text/x-python",
   "name": "python",
   "nbconvert_exporter": "python",
   "pygments_lexer": "ipython2",
   "version": "2.7.6"
  }
 },
 "nbformat": 4,
 "nbformat_minor": 0
}
